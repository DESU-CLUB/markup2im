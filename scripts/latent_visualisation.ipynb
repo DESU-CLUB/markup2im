{
 "cells": [
  {
   "cell_type": "code",
   "execution_count": 1,
   "metadata": {
    "vscode": {
     "languageId": "shellscript"
    }
   },
   "outputs": [
    {
     "name": "stdout",
     "output_type": "stream",
     "text": [
      "Requirement already satisfied: wandb in /opt/conda/lib/python3.10/site-packages (0.17.2)\n",
      "Requirement already satisfied: click!=8.0.0,>=7.1 in /opt/conda/lib/python3.10/site-packages (from wandb) (8.1.7)\n",
      "Requirement already satisfied: docker-pycreds>=0.4.0 in /opt/conda/lib/python3.10/site-packages (from wandb) (0.4.0)\n",
      "Requirement already satisfied: gitpython!=3.1.29,>=1.0.0 in /opt/conda/lib/python3.10/site-packages (from wandb) (3.1.43)\n",
      "Requirement already satisfied: platformdirs in /opt/conda/lib/python3.10/site-packages (from wandb) (3.10.0)\n",
      "Requirement already satisfied: protobuf!=4.21.0,<6,>=3.19.0 in /opt/conda/lib/python3.10/site-packages (from wandb) (5.27.1)\n",
      "Requirement already satisfied: psutil>=5.0.0 in /opt/conda/lib/python3.10/site-packages (from wandb) (5.9.0)\n",
      "Requirement already satisfied: pyyaml in /opt/conda/lib/python3.10/site-packages (from wandb) (6.0.1)\n",
      "Requirement already satisfied: requests<3,>=2.0.0 in /opt/conda/lib/python3.10/site-packages (from wandb) (2.32.3)\n",
      "Requirement already satisfied: sentry-sdk>=1.0.0 in /opt/conda/lib/python3.10/site-packages (from wandb) (2.6.0)\n",
      "Requirement already satisfied: setproctitle in /opt/conda/lib/python3.10/site-packages (from wandb) (1.3.3)\n",
      "Requirement already satisfied: setuptools in /opt/conda/lib/python3.10/site-packages (from wandb) (68.2.2)\n",
      "Requirement already satisfied: six>=1.4.0 in /opt/conda/lib/python3.10/site-packages (from docker-pycreds>=0.4.0->wandb) (1.16.0)\n",
      "Requirement already satisfied: gitdb<5,>=4.0.1 in /opt/conda/lib/python3.10/site-packages (from gitpython!=3.1.29,>=1.0.0->wandb) (4.0.11)\n",
      "Requirement already satisfied: charset-normalizer<4,>=2 in /opt/conda/lib/python3.10/site-packages (from requests<3,>=2.0.0->wandb) (2.0.4)\n",
      "Requirement already satisfied: idna<4,>=2.5 in /opt/conda/lib/python3.10/site-packages (from requests<3,>=2.0.0->wandb) (3.4)\n",
      "Requirement already satisfied: urllib3<3,>=1.21.1 in /opt/conda/lib/python3.10/site-packages (from requests<3,>=2.0.0->wandb) (1.26.18)\n",
      "Requirement already satisfied: certifi>=2017.4.17 in /opt/conda/lib/python3.10/site-packages (from requests<3,>=2.0.0->wandb) (2023.11.17)\n",
      "Requirement already satisfied: smmap<6,>=3.0.1 in /opt/conda/lib/python3.10/site-packages (from gitdb<5,>=4.0.1->gitpython!=3.1.29,>=1.0.0->wandb) (5.0.1)\n",
      "\u001b[33mWARNING: Running pip as the 'root' user can result in broken permissions and conflicting behaviour with the system package manager. It is recommended to use a virtual environment instead: https://pip.pypa.io/warnings/venv\u001b[0m\u001b[33m\n",
      "\u001b[0m"
     ]
    }
   ],
   "source": [
    "#idea: get bottom 10 and top 10, compare them on tSNE\n",
    "!pip install wandb\n",
    "import wandb\n",
    "api = wandb.Api()"
   ]
  },
  {
   "cell_type": "code",
   "execution_count": 2,
   "metadata": {
    "vscode": {
     "languageId": "shellscript"
    }
   },
   "outputs": [
    {
     "name": "stdout",
     "output_type": "stream",
     "text": [
      "Requirement already satisfied: pandas in /opt/conda/lib/python3.10/site-packages (2.2.2)\n",
      "Requirement already satisfied: numpy>=1.22.4 in /opt/conda/lib/python3.10/site-packages (from pandas) (1.26.3)\n",
      "Requirement already satisfied: python-dateutil>=2.8.2 in /opt/conda/lib/python3.10/site-packages (from pandas) (2.9.0.post0)\n",
      "Requirement already satisfied: pytz>=2020.1 in /opt/conda/lib/python3.10/site-packages (from pandas) (2023.3.post1)\n",
      "Requirement already satisfied: tzdata>=2022.7 in /opt/conda/lib/python3.10/site-packages (from pandas) (2024.1)\n",
      "Requirement already satisfied: six>=1.5 in /opt/conda/lib/python3.10/site-packages (from python-dateutil>=2.8.2->pandas) (1.16.0)\n",
      "\u001b[33mWARNING: Running pip as the 'root' user can result in broken permissions and conflicting behaviour with the system package manager. It is recommended to use a virtual environment instead: https://pip.pypa.io/warnings/venv\u001b[0m\u001b[33m\n",
      "\u001b[0mRequirement already satisfied: scikit-learn in /opt/conda/lib/python3.10/site-packages (1.5.0)\n",
      "Requirement already satisfied: matplotlib in /opt/conda/lib/python3.10/site-packages (3.9.0)\n",
      "Requirement already satisfied: numpy>=1.19.5 in /opt/conda/lib/python3.10/site-packages (from scikit-learn) (1.26.3)\n",
      "Requirement already satisfied: scipy>=1.6.0 in /opt/conda/lib/python3.10/site-packages (from scikit-learn) (1.13.1)\n",
      "Requirement already satisfied: joblib>=1.2.0 in /opt/conda/lib/python3.10/site-packages (from scikit-learn) (1.4.2)\n",
      "Requirement already satisfied: threadpoolctl>=3.1.0 in /opt/conda/lib/python3.10/site-packages (from scikit-learn) (3.5.0)\n",
      "Requirement already satisfied: contourpy>=1.0.1 in /opt/conda/lib/python3.10/site-packages (from matplotlib) (1.2.1)\n",
      "Requirement already satisfied: cycler>=0.10 in /opt/conda/lib/python3.10/site-packages (from matplotlib) (0.12.1)\n",
      "Requirement already satisfied: fonttools>=4.22.0 in /opt/conda/lib/python3.10/site-packages (from matplotlib) (4.53.0)\n",
      "Requirement already satisfied: kiwisolver>=1.3.1 in /opt/conda/lib/python3.10/site-packages (from matplotlib) (1.4.5)\n",
      "Requirement already satisfied: packaging>=20.0 in /opt/conda/lib/python3.10/site-packages (from matplotlib) (23.1)\n",
      "Requirement already satisfied: pillow>=8 in /opt/conda/lib/python3.10/site-packages (from matplotlib) (10.0.1)\n",
      "Requirement already satisfied: pyparsing>=2.3.1 in /opt/conda/lib/python3.10/site-packages (from matplotlib) (3.1.2)\n",
      "Requirement already satisfied: python-dateutil>=2.7 in /opt/conda/lib/python3.10/site-packages (from matplotlib) (2.9.0.post0)\n",
      "Requirement already satisfied: six>=1.5 in /opt/conda/lib/python3.10/site-packages (from python-dateutil>=2.7->matplotlib) (1.16.0)\n",
      "\u001b[33mWARNING: Running pip as the 'root' user can result in broken permissions and conflicting behaviour with the system package manager. It is recommended to use a virtual environment instead: https://pip.pypa.io/warnings/venv\u001b[0m\u001b[33m\n",
      "\u001b[0m"
     ]
    },
    {
     "data": {
      "text/html": [
       "<div>\n",
       "<style scoped>\n",
       "    .dataframe tbody tr th:only-of-type {\n",
       "        vertical-align: middle;\n",
       "    }\n",
       "\n",
       "    .dataframe tbody tr th {\n",
       "        vertical-align: top;\n",
       "    }\n",
       "\n",
       "    .dataframe thead th {\n",
       "        text-align: right;\n",
       "    }\n",
       "</style>\n",
       "<table border=\"1\" class=\"dataframe\">\n",
       "  <thead>\n",
       "    <tr style=\"text-align: right;\">\n",
       "      <th></th>\n",
       "      <th>_timestamp</th>\n",
       "      <th>index</th>\n",
       "      <th>file_name</th>\n",
       "      <th>kl-div</th>\n",
       "      <th>true-latent</th>\n",
       "      <th>predicted-latent</th>\n",
       "    </tr>\n",
       "  </thead>\n",
       "  <tbody>\n",
       "    <tr>\n",
       "      <th>0</th>\n",
       "      <td>1.718205e+09</td>\n",
       "      <td>0</td>\n",
       "      <td>A-1000</td>\n",
       "      <td>77.495750</td>\n",
       "      <td>[2, 2, 7, 24, 25, 33, 64, 113, 178, 268, 369, ...</td>\n",
       "      <td>[4, 2, 17, 21, 31, 28, 71, 131, 209, 271, 386,...</td>\n",
       "    </tr>\n",
       "    <tr>\n",
       "      <th>1</th>\n",
       "      <td>1.718205e+09</td>\n",
       "      <td>1</td>\n",
       "      <td>A-1003</td>\n",
       "      <td>73.052185</td>\n",
       "      <td>[2, 2, 7, 15, 21, 46, 44, 93, 174, 239, 339, 4...</td>\n",
       "      <td>[3, 0, 5, 27, 22, 33, 51, 105, 160, 246, 356, ...</td>\n",
       "    </tr>\n",
       "    <tr>\n",
       "      <th>2</th>\n",
       "      <td>1.718205e+09</td>\n",
       "      <td>2</td>\n",
       "      <td>A-1024</td>\n",
       "      <td>127.872810</td>\n",
       "      <td>[4, 1, 4, 15, 22, 31, 44, 82, 163, 236, 321, 4...</td>\n",
       "      <td>[4, 2, 9, 24, 28, 33, 68, 119, 196, 276, 382, ...</td>\n",
       "    </tr>\n",
       "    <tr>\n",
       "      <th>3</th>\n",
       "      <td>1.718205e+09</td>\n",
       "      <td>3</td>\n",
       "      <td>A-1051</td>\n",
       "      <td>103.170036</td>\n",
       "      <td>[5, 6, 18, 19, 30, 43, 86, 151, 226, 290, 426,...</td>\n",
       "      <td>[3, 3, 6, 15, 28, 31, 54, 108, 173, 244, 347, ...</td>\n",
       "    </tr>\n",
       "    <tr>\n",
       "      <th>4</th>\n",
       "      <td>1.718205e+09</td>\n",
       "      <td>4</td>\n",
       "      <td>A-1122</td>\n",
       "      <td>149.536896</td>\n",
       "      <td>[1, 2, 3, 11, 28, 23, 42, 59, 141, 238, 313, 4...</td>\n",
       "      <td>[3, 1, 6, 12, 23, 24, 58, 91, 147, 230, 334, 4...</td>\n",
       "    </tr>\n",
       "  </tbody>\n",
       "</table>\n",
       "</div>"
      ],
      "text/plain": [
       "     _timestamp  index file_name      kl-div  \\\n",
       "0  1.718205e+09      0    A-1000   77.495750   \n",
       "1  1.718205e+09      1    A-1003   73.052185   \n",
       "2  1.718205e+09      2    A-1024  127.872810   \n",
       "3  1.718205e+09      3    A-1051  103.170036   \n",
       "4  1.718205e+09      4    A-1122  149.536896   \n",
       "\n",
       "                                         true-latent  \\\n",
       "0  [2, 2, 7, 24, 25, 33, 64, 113, 178, 268, 369, ...   \n",
       "1  [2, 2, 7, 15, 21, 46, 44, 93, 174, 239, 339, 4...   \n",
       "2  [4, 1, 4, 15, 22, 31, 44, 82, 163, 236, 321, 4...   \n",
       "3  [5, 6, 18, 19, 30, 43, 86, 151, 226, 290, 426,...   \n",
       "4  [1, 2, 3, 11, 28, 23, 42, 59, 141, 238, 313, 4...   \n",
       "\n",
       "                                    predicted-latent  \n",
       "0  [4, 2, 17, 21, 31, 28, 71, 131, 209, 271, 386,...  \n",
       "1  [3, 0, 5, 27, 22, 33, 51, 105, 160, 246, 356, ...  \n",
       "2  [4, 2, 9, 24, 28, 33, 68, 119, 196, 276, 382, ...  \n",
       "3  [3, 3, 6, 15, 28, 31, 54, 108, 173, 244, 347, ...  \n",
       "4  [3, 1, 6, 12, 23, 24, 58, 91, 147, 230, 334, 4...  "
      ]
     },
     "execution_count": 2,
     "metadata": {},
     "output_type": "execute_result"
    }
   ],
   "source": [
    "!pip install pandas\n",
    "!pip install scikit-learn matplotlib\n",
    "import pandas as pd\n",
    "import re\n",
    "run = api.run(\"randomwish/odys-latent/5ruhh3mc\")\n",
    "data = []\n",
    "for i, row in run.history(samples=1000).iterrows(): #1000 because thats the size of molecules test set\n",
    "    data.append({\n",
    "        \"_timestamp\":row[\"_timestamp\"],\n",
    "        \"index\": i,\n",
    "        \"file_name\":re.search(r'([^/\\\\]+)(?=\\.[^./\\\\]+$)', row[\"path\"]).group(1),\n",
    "        \"kl-div\": row[\"kl-div\"],\n",
    "        \"true-latent\": row[\"true-latent\"][\"values\"],\n",
    "        \"predicted-latent\": row[\"predicted-latent\"][\"values\"]\n",
    "    })\n",
    "df = pd.DataFrame(data)\n",
    "df.head()"
   ]
  },
  {
   "cell_type": "code",
   "execution_count": 3,
   "metadata": {
    "vscode": {
     "languageId": "shellscript"
    }
   },
   "outputs": [],
   "source": [
    "import os\n",
    "import re\n",
    "\n",
    "#METHOD 1: Green and Red\n",
    "def extract_file_names(directory):\n",
    "    file_names = []\n",
    "    for root, _, files in os.walk(directory):\n",
    "        for file in files:\n",
    "            if file.endswith(\".png\"):  # or any other relevant extension\n",
    "                file_names.append(file)\n",
    "    return [re.sub(r'\\.png$', '', file) for file in file_names]\n",
    "\n",
    "# \n",
    "good_samples_dir = \"../outputs/OOD Samples MoleCules/Good Samples/images_gold\"\n",
    "bad_samples_dir = \"../outputs/OOD Samples MoleCules/Bad Samples/images_gold\"\n",
    "good_file_names = extract_file_names(good_samples_dir)\n",
    "bad_file_names = extract_file_names(bad_samples_dir)"
   ]
  },
  {
   "cell_type": "code",
   "execution_count": 4,
   "metadata": {
    "vscode": {
     "languageId": "shellscript"
    }
   },
   "outputs": [],
   "source": [
    "TOP_BOT_K = 100\n",
    "sorted_df = df.sort_values(by=\"kl-div\")\n",
    "good_file_names = sorted_df.head(TOP_BOT_K)['file_name'].tolist()\n",
    "bad_file_names = sorted_df.tail(TOP_BOT_K)['file_name'].tolist()"
   ]
  },
  {
   "cell_type": "code",
   "execution_count": 5,
   "metadata": {
    "vscode": {
     "languageId": "shellscript"
    }
   },
   "outputs": [],
   "source": [
    "from sklearn.manifold import TSNE\n",
    "import matplotlib.pyplot as plt\n",
    "\n",
    "import numpy as np\n",
    "PERPLEXITY = 350\n",
    "\n",
    "df['goodness'] = df['file_name'].apply(\n",
    "    lambda x: 2 if x in good_file_names else (0 if x in bad_file_names else 1)\n",
    ")\n",
    "tsne = TSNE(n_components=2, random_state=42,perplexity=PERPLEXITY,method=\"exact\")\n",
    "true_latent = np.array(df.loc[:][\"true-latent\"].tolist())\n",
    "pred_latent = np.array(df.loc[:][\"predicted-latent\"].tolist())\n",
    "latents = np.hstack((true_latent, pred_latent))\n",
    "latent_tsne = tsne.fit_transform(latents)\n",
    "color_map = {2: 'green', 0: 'red', 1: 'gray'}\n",
    "colors = df['goodness'].map(color_map)"
   ]
  },
  {
   "cell_type": "code",
   "execution_count": null,
   "metadata": {
    "vscode": {
     "languageId": "shellscript"
    }
   },
   "outputs": [],
   "source": [
    "import matplotlib.patches as mpatches\n",
    "\n",
    "plt.figure(figsize=(10, 8))\n",
    "plt.scatter(latent_tsne[:, 0], latent_tsne[:, 1], c=colors)\n",
    "plt.title('t-SNE visualization of goodness')\n",
    "plt.xlabel('t-SNE feature 1')\n",
    "plt.ylabel('t-SNE feature 2')\n",
    "legend_handles = [\n",
    "    mpatches.Patch(color='green', label='good'),\n",
    "    mpatches.Patch(color='red', label='bad'),\n",
    "    mpatches.Patch(color='gray', label='neither')\n",
    "]\n",
    "\n",
    "# Add the legend\n",
    "plt.legend(handles=legend_handles, title=\"Category\")\n",
    "plt.show()\n",
    "good_latents = np.where(df['goodness'] == 2)\n",
    "filtered_good_latent_tsne = latent_tsne[good_latents]\n",
    "\n",
    "# Plot only the filtered data points\n",
    "plt.figure(figsize=(10, 8))\n",
    "plt.scatter(filtered_good_latent_tsne[:, 0], filtered_good_latent_tsne[:, 1])\n",
    "plt.title(f't-SNE visualization of points colored green')\n",
    "plt.xlabel('t-SNE feature 1')\n",
    "plt.ylabel('t-SNE feature 2')\n",
    "plt.show()\n",
    "\n",
    "bad_latents = np.where(df['goodness'] == 0)\n",
    "filtered_bad_latent_tsne = latent_tsne[bad_latents]\n",
    "\n",
    "# Plot only the filtered data points\n",
    "plt.figure(figsize=(10, 8))\n",
    "plt.scatter(filtered_bad_latent_tsne[:, 0], filtered_bad_latent_tsne[:, 1])\n",
    "plt.title(f't-SNE visualization of points colored red')\n",
    "plt.xlabel('t-SNE feature 1')\n",
    "plt.ylabel('t-SNE feature 2')\n",
    "plt.show()"
   ]
  },
  {
   "cell_type": "code",
   "execution_count": null,
   "metadata": {
    "vscode": {
     "languageId": "shellscript"
    }
   },
   "outputs": [],
   "source": [
    "import matplotlib.patches as mpatches\n",
    "tsne = TSNE(n_components=3, random_state=42,perplexity=PERPLEXITY,method=\"exact\")\n",
    "true_latent = np.array(df.loc[:][\"true-latent\"].tolist())\n",
    "pred_latent = np.array(df.loc[:][\"predicted-latent\"].tolist())\n",
    "latents = np.hstack((true_latent, pred_latent))\n",
    "latent_tsne = tsne.fit_transform(latents)\n",
    "color_map = {2: 'green', 0: 'red', 1: 'gray'}\n",
    "colors = df['goodness'].map(color_map)\n",
    "\n",
    "plt.figure(figsize=(10, 8))\n",
    "fig = plt.figure()\n",
    "ax = fig.add_subplot(projection='3d')\n",
    "ax.scatter(latent_tsne[:, 0], latent_tsne[:, 1],latent_tsne[:,2],c=colors)\n",
    "plt.title('t-SNE visualization of goodness')\n",
    "ax.set_xlabel(\"First dimension\")\n",
    "ax.set_ylabel(\"Second dimension\")\n",
    "ax.set_zlabel(\"Third dimension\")\n",
    "legend_handles = [\n",
    "    mpatches.Patch(color='green', label='good'),\n",
    "    mpatches.Patch(color='red', label='bad'),\n",
    "    mpatches.Patch(color='gray', label='neither')\n",
    "]\n",
    "\n",
    "# Add the legend\n",
    "plt.legend(handles=legend_handles, title=\"Category\")\n",
    "plt.show()"
   ]
  },
  {
   "cell_type": "code",
   "execution_count": null,
   "metadata": {
    "vscode": {
     "languageId": "shellscript"
    }
   },
   "outputs": [],
   "source": [
    "good_latents = np.where(df['goodness'] == 2)\n",
    "filtered_good_latent_tsne = latent_tsne[good_latents]\n",
    "\n",
    "# # Plot only the filtered data points\n",
    "plt.figure(figsize=(10, 8))\n",
    "fig = plt.figure()\n",
    "ax = fig.add_subplot(projection='3d')\n",
    "ax.scatter(filtered_good_latent_tsne[:, 0], filtered_good_latent_tsne[:, 1], filtered_good_latent_tsne[:,2])\n",
    "plt.title(f't-SNE visualization of points colored green')\n",
    "ax.set_xlabel(\"First dimension\")\n",
    "ax.set_ylabel(\"Second dimension\")\n",
    "ax.set_zlabel(\"Third dimension\")\n",
    "plt.show()\n",
    "\n",
    "bad_latents = np.where(df['goodness'] == 0)\n",
    "filtered_bad_latent_tsne = latent_tsne[bad_latents]\n",
    "\n",
    "# # Plot only the filtered data points\n",
    "plt.figure(figsize=(10, 8))\n",
    "fig = plt.figure()\n",
    "ax = fig.add_subplot(projection='3d')\n",
    "ax.scatter(filtered_bad_latent_tsne[:, 0], filtered_bad_latent_tsne[:, 1], filtered_bad_latent_tsne[:,2])\n",
    "plt.title(f't-SNE visualization of points colored red')\n",
    "ax.set_xlabel(\"First dimension\")\n",
    "ax.set_ylabel(\"Second dimension\")\n",
    "ax.set_zlabel(\"Third dimension\")\n",
    "plt.show()\n"
   ]
  },
  {
   "cell_type": "code",
   "execution_count": null,
   "metadata": {
    "vscode": {
     "languageId": "shellscript"
    }
   },
   "outputs": [],
   "source": []
  }
 ],
 "metadata": {
  "kernelspec": {
   "display_name": "base",
   "language": "python",
   "name": "python3"
  },
  "language_info": {
   "codemirror_mode": {
    "name": "ipython",
    "version": 3
   },
   "file_extension": ".py",
   "mimetype": "text/x-python",
   "name": "python",
   "nbconvert_exporter": "python",
   "pygments_lexer": "ipython3",
   "version": "3.10.13"
  }
 },
 "nbformat": 4,
 "nbformat_minor": 2
}
